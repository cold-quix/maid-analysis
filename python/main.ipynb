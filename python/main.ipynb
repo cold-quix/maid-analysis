{
 "cells": [
  {
   "cell_type": "markdown",
   "metadata": {},
   "source": [
    "FILE\t\t\t: main.ipynb\n",
    "PROJECT\t\t\t: maid-analysis\n",
    "PROGRAMMER\t\t: Jack Parkinson\n",
    "FIRST VERSION\t: 2024-4-20\n",
    "DESCRIPTION\t\t:\n",
    "\tThis file will handle data reading, manipulation, and general program flow.\n"
   ]
  },
  {
   "cell_type": "code",
   "execution_count": 14,
   "metadata": {},
   "outputs": [],
   "source": [
    "# Imports\n",
    "import pdfplumber\n",
    "import pandas as pd"
   ]
  },
  {
   "cell_type": "code",
   "execution_count": 22,
   "metadata": {},
   "outputs": [
    {
     "name": "stdout",
     "output_type": "stream",
     "text": [
      "[['Did the patient make a voluntary request for MAID that was not made of a result of external pressure? If yes,\\nindicate why you are of this opinion.', None], ['Consultation with patient', '99.1%'], ['Consultation with family members or friends', '58.5%'], ['Reviewed medical records', '43.9%'], ['Consultation with other health or social service professionals', '40.7%'], ['Knowledge of patient from prior consultation (other than MAID)', '14.9%'], ['Other', '0.3%']]\n"
     ]
    }
   ],
   "source": [
    "# Read in data from PDFs. Get tables on pages 18, 19, 22, 23, 24, 28, 33, 36\n",
    "import pdfplumber\n",
    "\n",
    "temp_page = \"\"\n",
    "im = \"\"\n",
    "# The index is one behind the page number (both on the page and in the PDF viewer). Ex: to get page 20, use index 19.\n",
    "with pdfplumber.open(\"..\\data\\MAID_2019.pdf\") as pdf:\n",
    "    im = pdf.pages[32].to_image()\n",
    "    temp_page = pdf.pages[32].extract_table()\n",
    "\n",
    "print(temp_page)"
   ]
  },
  {
   "cell_type": "code",
   "execution_count": 37,
   "metadata": {},
   "outputs": [
    {
     "data": {
      "text/html": [
       "<div>\n",
       "<style scoped>\n",
       "    .dataframe tbody tr th:only-of-type {\n",
       "        vertical-align: middle;\n",
       "    }\n",
       "\n",
       "    .dataframe tbody tr th {\n",
       "        vertical-align: top;\n",
       "    }\n",
       "\n",
       "    .dataframe thead th {\n",
       "        text-align: right;\n",
       "    }\n",
       "</style>\n",
       "<table border=\"1\" class=\"dataframe\">\n",
       "  <thead>\n",
       "    <tr style=\"text-align: right;\">\n",
       "      <th></th>\n",
       "      <th>Description of Voluntary Request</th>\n",
       "      <th>Prevalence</th>\n",
       "    </tr>\n",
       "  </thead>\n",
       "  <tbody>\n",
       "    <tr>\n",
       "      <th>0</th>\n",
       "      <td>Consultation with patient</td>\n",
       "      <td>99.1%</td>\n",
       "    </tr>\n",
       "    <tr>\n",
       "      <th>1</th>\n",
       "      <td>Consultation with family members or friends</td>\n",
       "      <td>58.5%</td>\n",
       "    </tr>\n",
       "    <tr>\n",
       "      <th>2</th>\n",
       "      <td>Reviewed medical records</td>\n",
       "      <td>43.9%</td>\n",
       "    </tr>\n",
       "    <tr>\n",
       "      <th>3</th>\n",
       "      <td>Consultation with other health or social servi...</td>\n",
       "      <td>40.7%</td>\n",
       "    </tr>\n",
       "    <tr>\n",
       "      <th>4</th>\n",
       "      <td>Knowledge of patient from prior consultation (...</td>\n",
       "      <td>14.9%</td>\n",
       "    </tr>\n",
       "    <tr>\n",
       "      <th>5</th>\n",
       "      <td>Other</td>\n",
       "      <td>0.3%</td>\n",
       "    </tr>\n",
       "  </tbody>\n",
       "</table>\n",
       "</div>"
      ],
      "text/plain": [
       "                    Description of Voluntary Request Prevalence\n",
       "0                          Consultation with patient      99.1%\n",
       "1        Consultation with family members or friends      58.5%\n",
       "2                           Reviewed medical records      43.9%\n",
       "3  Consultation with other health or social servi...      40.7%\n",
       "4  Knowledge of patient from prior consultation (...      14.9%\n",
       "5                                              Other       0.3%"
      ]
     },
     "execution_count": 37,
     "metadata": {},
     "output_type": "execute_result"
    }
   ],
   "source": [
    "df = pd.DataFrame(temp_page[1:], columns=temp_page[0])\n",
    "new_columns = \"Description of Voluntary Request\", \"Prevalence\"\n",
    "df.columns = new_columns\n",
    "df"
   ]
  },
  {
   "cell_type": "code",
   "execution_count": null,
   "metadata": {},
   "outputs": [],
   "source": []
  }
 ],
 "metadata": {
  "kernelspec": {
   "display_name": "base",
   "language": "python",
   "name": "python3"
  },
  "language_info": {
   "codemirror_mode": {
    "name": "ipython",
    "version": 3
   },
   "file_extension": ".py",
   "mimetype": "text/x-python",
   "name": "python",
   "nbconvert_exporter": "python",
   "pygments_lexer": "ipython3",
   "version": "3.11.5"
  }
 },
 "nbformat": 4,
 "nbformat_minor": 2
}
