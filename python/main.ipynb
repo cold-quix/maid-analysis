{
 "cells": [
  {
   "cell_type": "markdown",
   "metadata": {},
   "source": [
    "FILE\t\t\t: main.ipynb\n",
    "PROJECT\t\t\t: maid-analysis\n",
    "PROGRAMMER\t\t: Jack Parkinson\n",
    "FIRST VERSION\t: 2024-4-20\n",
    "DESCRIPTION\t\t:\n",
    "\tThis file will handle data reading, manipulation, and general program flow.\n"
   ]
  },
  {
   "cell_type": "code",
   "execution_count": null,
   "metadata": {
    "vscode": {
     "languageId": "plaintext"
    }
   },
   "outputs": [],
   "source": [
    "# Read in data from PDFs.\n"
   ]
  }
 ],
 "metadata": {
  "language_info": {
   "name": "python"
  }
 },
 "nbformat": 4,
 "nbformat_minor": 2
}
